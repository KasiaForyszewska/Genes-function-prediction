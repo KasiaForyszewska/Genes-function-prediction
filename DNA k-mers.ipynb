{
  "nbformat": 4,
  "nbformat_minor": 0,
  "metadata": {
    "colab": {
      "provenance": []
    },
    "kernelspec": {
      "name": "python3",
      "display_name": "Python 3"
    },
    "language_info": {
      "name": "python"
    }
  },
  "cells": [
    {
      "cell_type": "markdown",
      "source": [
        "**Genes function prediction. Model based on k-mers. Dataset - 15 000 sequences of DNA.**"
      ],
      "metadata": {
        "id": "swyugtB80eSL"
      }
    },
    {
      "cell_type": "code",
      "source": [
        "import re\n",
        "import pandas as pd\n",
        "import numpy as np\n",
        "import matplotlib.pyplot as plt\n",
        "from sklearn.feature_extraction.text import CountVectorizer\n",
        "from sklearn.model_selection import RepeatedKFold"
      ],
      "metadata": {
        "id": "2kP1wabs0bZM"
      },
      "execution_count": 34,
      "outputs": []
    },
    {
      "cell_type": "code",
      "source": [
        "f = open('doubled_dna.txt', \"r\")\n",
        "data = f.read()\n",
        "f.close()\n",
        "\n",
        "elements = re.findall(\"([A-Z]+)\\t+(\\d+)\", data)\n",
        "\n",
        "sequences = [s.lower() for s, n in elements]\n",
        "classes = [n for s, n in elements]\n",
        "classes = [int(i) for i in classes]"
      ],
      "metadata": {
        "id": "zGY3cqm1md3G"
      },
      "execution_count": 4,
      "outputs": []
    },
    {
      "cell_type": "code",
      "source": [
        "def getKmers(sequence, k=6):\n",
        "    kmers = []\n",
        "    for i in range(len(sequence) - k + 1):\n",
        "        kmers.append(sequence[i:i+k])\n",
        "    return kmers"
      ],
      "metadata": {
        "id": "zr_FTM7ds1qz"
      },
      "execution_count": 18,
      "outputs": []
    },
    {
      "cell_type": "code",
      "source": [
        "kmers_list = [getKmers(sequence, k=6) for sequence in sequences]"
      ],
      "metadata": {
        "id": "Xqly092LxBav"
      },
      "execution_count": 19,
      "outputs": []
    },
    {
      "cell_type": "code",
      "source": [
        "kmers_strings = [\" \".join(kmers) for kmers in kmers_list]"
      ],
      "metadata": {
        "id": "ZbJBAXD_xHHu"
      },
      "execution_count": 20,
      "outputs": []
    },
    {
      "cell_type": "code",
      "source": [
        "Y = np.array(classes, dtype=np.int64)"
      ],
      "metadata": {
        "id": "_666mxqzxfIA"
      },
      "execution_count": 23,
      "outputs": []
    },
    {
      "cell_type": "code",
      "source": [
        "from sklearn.feature_extraction.text import CountVectorizer\n",
        "vectorizer = CountVectorizer(ngram_range=(4,4))\n",
        "X = vectorizer.fit_transform(kmers_strings)"
      ],
      "metadata": {
        "id": "PyRfdLIvxPjv"
      },
      "execution_count": 22,
      "outputs": []
    },
    {
      "cell_type": "code",
      "source": [
        "rkf = RepeatedKFold(n_splits=2, n_repeats=2, random_state=42)\n",
        "\n",
        "for train_index, test_index in rkf.split(X):\n",
        "    print(\"TRAIN:\", train_index, \"TEST:\", test_index)\n",
        "    X_train, X_test = X[train_index], X[test_index]\n",
        "    Y_train, Y_test = Y[train_index], Y[test_index]"
      ],
      "metadata": {
        "colab": {
          "base_uri": "https://localhost:8080/"
        },
        "id": "_Cz_jBHMzfPu",
        "outputId": "1d8367ad-41d2-49ac-a656-6e39efbb9f87"
      },
      "execution_count": 27,
      "outputs": [
        {
          "output_type": "stream",
          "name": "stdout",
          "text": [
            "TRAIN: [    1     2     4 ... 13869 13874 13875] TEST: [    0     3     8 ... 13873 13876 13877]\n",
            "TRAIN: [    0     3     8 ... 13873 13876 13877] TEST: [    1     2     4 ... 13869 13874 13875]\n",
            "TRAIN: [    0     1     4 ... 13874 13875 13876] TEST: [    2     3     6 ... 13866 13869 13877]\n",
            "TRAIN: [    2     3     6 ... 13866 13869 13877] TEST: [    0     1     4 ... 13874 13875 13876]\n"
          ]
        }
      ]
    },
    {
      "cell_type": "code",
      "source": [
        "from sklearn.naive_bayes import MultinomialNB \n",
        "classifier = MultinomialNB(alpha=0.1)\n",
        "classifier.fit(X_train, Y_train)"
      ],
      "metadata": {
        "colab": {
          "base_uri": "https://localhost:8080/"
        },
        "id": "LPFLo3rWz0Z1",
        "outputId": "4d3bab57-336d-4930-926c-8e38ba3d14b1"
      },
      "execution_count": 29,
      "outputs": [
        {
          "output_type": "execute_result",
          "data": {
            "text/plain": [
              "MultinomialNB(alpha=0.1)"
            ]
          },
          "metadata": {},
          "execution_count": 29
        }
      ]
    },
    {
      "cell_type": "code",
      "source": [
        "Y_pred = classifier.predict(X_test)"
      ],
      "metadata": {
        "id": "vnT4VbJEz6pu"
      },
      "execution_count": 30,
      "outputs": []
    },
    {
      "cell_type": "code",
      "source": [
        "from sklearn.metrics import accuracy_score, f1_score, precision_score, recall_score\n",
        "print(\"Confusion matrix\\n\")\n",
        "print(pd.crosstab(pd.Series(Y_test, name='Actual'), pd.Series(Y_pred, name='Predicted')))\n",
        "def get_metrics(Y_test, y_predicted):\n",
        "    accuracy = accuracy_score(Y_test, y_predicted)\n",
        "    precision = precision_score(Y_test, y_predicted, average='weighted')\n",
        "    recall = recall_score(Y_test, y_predicted, average='weighted')\n",
        "    f1 = f1_score(Y_test, y_predicted, average='weighted')\n",
        "    return accuracy, precision, recall, f1\n",
        "accuracy, precision, recall, f1 = get_metrics(Y_test, Y_pred)\n",
        "print(\"accuracy = %.3f \\nprecision = %.3f \\nrecall = %.3f \\nf1 = %.3f\" % (accuracy, precision, recall, f1))"
      ],
      "metadata": {
        "colab": {
          "base_uri": "https://localhost:8080/"
        },
        "id": "T2V5qFDtzZlh",
        "outputId": "f6157a4d-c917-4b15-dcf7-fe6039e4900a"
      },
      "execution_count": 33,
      "outputs": [
        {
          "output_type": "stream",
          "name": "stdout",
          "text": [
            "Confusion matrix\n",
            "\n",
            "Predicted     0    1     2    3    4    5    6\n",
            "Actual                                        \n",
            "0          1206    0     0    0    0    0    0\n",
            "1             0  919     0    0    0    0    0\n",
            "2             0    0  1164    0    0    0    0\n",
            "3             0    0     0  920    0    0    0\n",
            "4             0    0     0    0  836    0    0\n",
            "5             0    0     0    0    0  997    0\n",
            "6             0    0     0    0    0    0  897\n",
            "accuracy = 1.000 \n",
            "precision = 1.000 \n",
            "recall = 1.000 \n",
            "f1 = 1.000\n"
          ]
        }
      ]
    }
  ]
}