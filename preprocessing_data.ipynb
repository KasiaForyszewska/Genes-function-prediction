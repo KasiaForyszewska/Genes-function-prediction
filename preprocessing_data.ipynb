{
 "cells": [
  {
   "cell_type": "markdown",
   "id": "0a61c9b1",
   "metadata": {},
   "source": [
    "<h1>Preprocessing data</h1>"
   ]
  },
  {
   "cell_type": "markdown",
   "id": "50916786",
   "metadata": {},
   "source": [
    "<h3>Remove duplicate sequences</h3>"
   ]
  },
  {
   "cell_type": "code",
   "execution_count": 65,
   "id": "9bf00fea",
   "metadata": {},
   "outputs": [
    {
     "name": "stdout",
     "output_type": "stream",
     "text": [
      "5459\n"
     ]
    }
   ],
   "source": [
    "f = open(\"sequence.txt\", \"r\")\n",
    "t = f.read()\n",
    "f.close()\n",
    "\n",
    "import re\n",
    "full_sequences = re.findall(\"(>.*?)\\n([ATGC\\n]*)\", t)\n",
    "\n",
    "sequences = [s.replace(\"\\n\",\"\") for n, s in full_sequences]\n",
    "sequences_names = [n for n, s in full_sequences]\n",
    "\n",
    "unique_sequences = []\n",
    "full_names = []\n",
    "\n",
    "for i in range(len(sequences)):\n",
    "    if sequences[i] not in unique_sequences:\n",
    "        unique_sequences.append(sequences[i])\n",
    "        full_names.append(sequences_names[i])\n",
    "print(len(unique_sequences))\n",
    "\n",
    "f2 = open(\"unique_sequences.txt\",\"w\")\n",
    "for i in range(len(unique_sequences)):\n",
    "    f2.write(full_names[i]+\"\\n\"+unique_sequences[i]+\"\\n\")\n",
    "f2.close()"
   ]
  },
  {
   "cell_type": "markdown",
   "id": "440d250d",
   "metadata": {},
   "source": [
    "<h3>Remove the same genes</h3>"
   ]
  },
  {
   "cell_type": "code",
   "execution_count": 16,
   "id": "87a2581d",
   "metadata": {},
   "outputs": [
    {
     "name": "stdout",
     "output_type": "stream",
     "text": [
      "1055\n"
     ]
    }
   ],
   "source": [
    "f3 = open(\"unique_sequences.txt\", \"r\")\n",
    "t2 = f3.read()\n",
    "f3.close()\n",
    "\n",
    "import re\n",
    "full_sequences2 = re.findall(\"(>.*?)\\n([ATGC\\n]*)\", t2)\n",
    "\n",
    "sequences2 = [s for n, s in full_sequences2]\n",
    "sequences_names2 = [n for n, s in full_sequences2]\n",
    "\n",
    "\n",
    "\n",
    "string_of_names = ' '.join([str(elem) for elem in sequences_names2])\n",
    "gene_names = re.findall(r'(?<=gene=)\\w+', string_of_names)\n",
    "unique_genes = []\n",
    "\n",
    "for name in gene_names:\n",
    "    if name not in unique_genes:\n",
    "        unique_genes.append(name)\n",
    "print(len(unique_genes))\n",
    "\n",
    "f4 = open(\"unique_genes.txt\",\"w\")\n",
    "for i in range(len(unique_genes)):\n",
    "    f4.write('>'+unique_genes[i]+\"\\n\"+sequences2[i]+\"\\n\")\n",
    "f4.close()"
   ]
  },
  {
   "cell_type": "markdown",
   "id": "3d52ba60",
   "metadata": {},
   "source": [
    "<h3>Translate DNA to protein</h3>"
   ]
  },
  {
   "cell_type": "code",
   "execution_count": 69,
   "id": "d9237933",
   "metadata": {},
   "outputs": [],
   "source": [
    "f5 = open('unique_genes.txt', \"r\")\n",
    "t3 = f5.read()\n",
    "f5.close()\n",
    "\n",
    "import re\n",
    "full_sequences3 = re.findall(\"(>\\w+)\\n([ATGC\\n]*)\", t3)\n",
    "\n",
    "mod_sequences =  [s.replace(\"\\n\",\"\") for n, s in full_sequences3]\n",
    "sequences_names3 = [n for n, s in full_sequences3]\n",
    "\n",
    "code = {\n",
    "    'ATA':'I', 'ATC':'I', 'ATT':'I', 'ATG':'M',\n",
    "    'ACA':'T', 'ACC':'T', 'ACG':'T', 'ACT':'T',\n",
    "    'AAC':'N', 'AAT':'N', 'AAA':'K', 'AAG':'K',\n",
    "    'AGC':'S', 'AGT':'S', 'AGA':'R', 'AGG':'R',\n",
    "    'CTA':'L', 'CTC':'L', 'CTG':'L', 'CTT':'L',\n",
    "    'CCA':'P', 'CCC':'P', 'CCG':'P', 'CCT':'P',\n",
    "    'CAC':'H', 'CAT':'H', 'CAA':'Q', 'CAG':'Q',\n",
    "    'CGA':'R', 'CGC':'R', 'CGG':'R', 'CGT':'R',\n",
    "    'GTA':'V', 'GTC':'V', 'GTG':'V', 'GTT':'V',\n",
    "    'GCA':'A', 'GCC':'A', 'GCG':'A', 'GCT':'A',\n",
    "    'GAC':'D', 'GAT':'D', 'GAA':'E', 'GAG':'E',\n",
    "    'GGA':'G', 'GGC':'G', 'GGG':'G', 'GGT':'G',\n",
    "    'TCA':'S', 'TCC':'S', 'TCG':'S', 'TCT':'S',\n",
    "    'TTC':'F', 'TTT':'F', 'TTA':'L', 'TTG':'L',\n",
    "    'TAC':'Y', 'TAT':'Y', 'TAA':'',  'TAG':'',\n",
    "    'TGC':'C', 'TGT':'C', 'TGA':'',  'TGG':'W'\n",
    "    }\n",
    "\n",
    "protein_sequences = []\n",
    "for sequence in mod_sequences:\n",
    "    protein  = ''\n",
    "    if len(sequence) % 3 == 0:\n",
    "        for i in range (0, len(sequence), 3):\n",
    "            codon = sequence[i:i+3]\n",
    "            protein += code[codon]\n",
    "        protein_sequences.append(protein) \n",
    "\n",
    "f6 = open(\"protein_sequences.txt\",\"w\")\n",
    "for i in range(len(mod_sequences)):\n",
    "    f6.write(sequences_names3[i]+\"\\n\"+protein_sequences[i]+\"\\n\")\n",
    "f6.close()"
   ]
  },
  {
   "cell_type": "markdown",
   "id": "d98ebf2c",
   "metadata": {},
   "source": [
    "<h3>One hot encoding for DNA</h3>"
   ]
  },
  {
   "cell_type": "code",
   "execution_count": 106,
   "id": "41bbfe3b",
   "metadata": {},
   "outputs": [],
   "source": [
    "f7 = open('test.txt', \"r\")\n",
    "data = f7.read()\n",
    "f7.close()\n",
    "\n",
    "import re\n",
    "elements = re.findall(\"([ATGC]+)\\s+(\\d+)\", data)\n",
    "\n",
    "DNA_sequences = [s for s, n in elements]\n",
    "classes = [n for s, n in elements]"
   ]
  },
  {
   "cell_type": "code",
   "execution_count": 107,
   "id": "5085b2c8",
   "metadata": {},
   "outputs": [],
   "source": [
    "import numpy as np\n",
    "\n",
    "def DNA_encoded(sequence):\n",
    "    code = {\"A\": 0, \"C\": 1, \"G\": 2, \"T\": 3}\n",
    "    fit = [code[x] for x in sequence]\n",
    "    return np.eye(4)[fit]"
   ]
  },
  {
   "cell_type": "code",
   "execution_count": 108,
   "id": "d8b17af2",
   "metadata": {},
   "outputs": [],
   "source": [
    "OHE_DNA = [DNA_encoded(sequence) for sequence in DNA_sequences]"
   ]
  },
  {
   "cell_type": "markdown",
   "id": "31d66090",
   "metadata": {},
   "source": [
    "<h3>One hot encoding for protein</h3>"
   ]
  },
  {
   "cell_type": "code",
   "execution_count": 3,
   "id": "e8721e4e",
   "metadata": {},
   "outputs": [],
   "source": [
    "f8 = open('test.txt', \"r\")\n",
    "data2 = f8.read()\n",
    "f8.close()\n",
    "\n",
    "import re\n",
    "elements2 = re.findall(\"([A-Z]+)\\s+(\\d+)\", data2)\n",
    "\n",
    "protein_sequences = [s for s, n in elements2]\n",
    "classes2 = [n for s, n in elements2]"
   ]
  },
  {
   "cell_type": "code",
   "execution_count": 95,
   "id": "9e97ca34",
   "metadata": {},
   "outputs": [],
   "source": [
    "def Protein_encoded(sequence):\n",
    "    code = {\"I\": [6.04, 131.18, 2.32, 9.76], \"T\": [5.60,  119.12, 2.09, 9.10], \"N\": [5.43, 132.12, 2.14, 8.72], \n",
    "            \"S\": [5.70, 105.09, 2.19, 9.21], \"L\": [6.04, 131.18, 2.33, 9.74], \"P\": [6.30, 115.13, 1.95, 10.64], \n",
    "            \"H\": [7.64, 155.16, 1.80, 9.33], \"R\": [10.76, 174.20, 1.82, 8.99], \"V\": [6.02, 117.15, 2.29, 9.74], \n",
    "            \"A\": [6.11, 89.10, 2.35, 9.87], \"D\": [2.98, 133.11, 1.99, 9.90], \"G\": [6.06, 75.07, 2.35, 9.78], \n",
    "            \"S\": [5.70, 105.09, 2.19, 9.21], \"F\": [5.76, 165.19, 2.20, 9.31], \"C\": [5.15, 121.16, 1.92, 10.70], \n",
    "            \"Y\": [5.63, 181.19, 2.20, 9.21], \"K\": [9.47, 146.19, 2.16, 9.06], \"Q\": [5.65, 146.15, 2.17, 9.13], \n",
    "            \"E\": [3.08, 147.13, 2.10, 9.47], \"M\": [5.71, 149.21, 2.13, 9.28], \"W\": [5.88, 204.23, 2.46, 9.41]} \n",
    "\n",
    "    fit = [code[x] for x in sequence_p]\n",
    "    return np.array(fit)"
   ]
  },
  {
   "cell_type": "code",
   "execution_count": 111,
   "id": "a20c7f5e",
   "metadata": {},
   "outputs": [],
   "source": [
    "OHE_Protein = [Protein_encoded(sequence) for sequence in protein_sequences]"
   ]
  }
 ],
 "metadata": {
  "kernelspec": {
   "display_name": "Python 3 (ipykernel)",
   "language": "python",
   "name": "python3"
  },
  "language_info": {
   "codemirror_mode": {
    "name": "ipython",
    "version": 3
   },
   "file_extension": ".py",
   "mimetype": "text/x-python",
   "name": "python",
   "nbconvert_exporter": "python",
   "pygments_lexer": "ipython3",
   "version": "3.9.13"
  }
 },
 "nbformat": 4,
 "nbformat_minor": 5
}
