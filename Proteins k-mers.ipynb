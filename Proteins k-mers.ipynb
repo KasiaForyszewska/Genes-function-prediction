{
  "nbformat": 4,
  "nbformat_minor": 0,
  "metadata": {
    "colab": {
      "provenance": []
    },
    "kernelspec": {
      "name": "python3",
      "display_name": "Python 3"
    },
    "language_info": {
      "name": "python"
    }
  },
  "cells": [
    {
      "cell_type": "markdown",
      "source": [
        "**Genes function prediction. Model based on k-mers. Dataset - 15 000 sequences of amino acids.**"
      ],
      "metadata": {
        "id": "swyugtB80eSL"
      }
    },
    {
      "cell_type": "code",
      "source": [
        "import re\n",
        "import pandas as pd\n",
        "import numpy as np\n",
        "import matplotlib.pyplot as plt\n",
        "from sklearn.feature_extraction.text import CountVectorizer\n",
        "from sklearn.model_selection import RepeatedKFold"
      ],
      "metadata": {
        "id": "2kP1wabs0bZM"
      },
      "execution_count": 34,
      "outputs": []
    },
    {
      "cell_type": "code",
      "source": [
        "f = open('doubled_proteins.txt', \"r\")\n",
        "data = f.read()\n",
        "f.close()\n",
        "\n",
        "elements = re.findall(\"([A-Z]+)\\t+(\\d+)\", data)\n",
        "\n",
        "sequences = [s.lower() for s, n in elements]\n",
        "classes = [n for s, n in elements]\n",
        "classes = [int(i) for i in classes]"
      ],
      "metadata": {
        "id": "zGY3cqm1md3G"
      },
      "execution_count": 35,
      "outputs": []
    },
    {
      "cell_type": "code",
      "source": [
        "def getKmers(sequence, k=6):\n",
        "    kmers = []\n",
        "    for i in range(len(sequence) - k + 1):\n",
        "        kmers.append(sequence[i:i+k])\n",
        "    return kmers"
      ],
      "metadata": {
        "id": "zr_FTM7ds1qz"
      },
      "execution_count": 36,
      "outputs": []
    },
    {
      "cell_type": "code",
      "source": [
        "kmers_list = [getKmers(sequence, k=6) for sequence in sequences]"
      ],
      "metadata": {
        "id": "Xqly092LxBav"
      },
      "execution_count": 37,
      "outputs": []
    },
    {
      "cell_type": "code",
      "source": [
        "kmers_strings = [\" \".join(kmers) for kmers in kmers_list]"
      ],
      "metadata": {
        "id": "ZbJBAXD_xHHu"
      },
      "execution_count": 38,
      "outputs": []
    },
    {
      "cell_type": "code",
      "source": [
        "Y = np.array(classes, dtype=np.int64)"
      ],
      "metadata": {
        "id": "_666mxqzxfIA"
      },
      "execution_count": 39,
      "outputs": []
    },
    {
      "cell_type": "code",
      "source": [
        "from sklearn.feature_extraction.text import CountVectorizer\n",
        "vectorizer = CountVectorizer(ngram_range=(4,4))\n",
        "X = vectorizer.fit_transform(kmers_strings)"
      ],
      "metadata": {
        "id": "PyRfdLIvxPjv"
      },
      "execution_count": 40,
      "outputs": []
    },
    {
      "cell_type": "code",
      "source": [
        "rkf = RepeatedKFold(n_splits=2, n_repeats=2, random_state=42)\n",
        "\n",
        "for train_index, test_index in rkf.split(X):\n",
        "    print(\"TRAIN:\", train_index, \"TEST:\", test_index)\n",
        "    X_train, X_test = X[train_index], X[test_index]\n",
        "    Y_train, Y_test = Y[train_index], Y[test_index]"
      ],
      "metadata": {
        "colab": {
          "base_uri": "https://localhost:8080/"
        },
        "id": "_Cz_jBHMzfPu",
        "outputId": "60a98790-e504-479e-d416-1486b5593f5a"
      },
      "execution_count": 41,
      "outputs": [
        {
          "output_type": "stream",
          "name": "stdout",
          "text": [
            "TRAIN: [    1     2     4 ... 15071 15076 15077] TEST: [    0     3     8 ... 15075 15078 15079]\n",
            "TRAIN: [    0     3     8 ... 15075 15078 15079] TEST: [    1     2     4 ... 15071 15076 15077]\n",
            "TRAIN: [    0     1     4 ... 15073 15074 15075] TEST: [    2     3     6 ... 15077 15078 15079]\n",
            "TRAIN: [    2     3     6 ... 15077 15078 15079] TEST: [    0     1     4 ... 15073 15074 15075]\n"
          ]
        }
      ]
    },
    {
      "cell_type": "code",
      "source": [
        "from sklearn.naive_bayes import MultinomialNB \n",
        "classifier = MultinomialNB(alpha=0.1)\n",
        "classifier.fit(X_train, Y_train)"
      ],
      "metadata": {
        "colab": {
          "base_uri": "https://localhost:8080/"
        },
        "id": "LPFLo3rWz0Z1",
        "outputId": "168dab2e-5064-4e78-8923-67dbce3fc22a"
      },
      "execution_count": 42,
      "outputs": [
        {
          "output_type": "execute_result",
          "data": {
            "text/plain": [
              "MultinomialNB(alpha=0.1)"
            ]
          },
          "metadata": {},
          "execution_count": 42
        }
      ]
    },
    {
      "cell_type": "code",
      "source": [
        "Y_pred = classifier.predict(X_test)"
      ],
      "metadata": {
        "id": "vnT4VbJEz6pu"
      },
      "execution_count": 43,
      "outputs": []
    },
    {
      "cell_type": "code",
      "source": [
        "from sklearn.metrics import accuracy_score, f1_score, precision_score, recall_score\n",
        "print(\"Confusion matrix\\n\")\n",
        "print(pd.crosstab(pd.Series(Y_test, name='Actual'), pd.Series(Y_pred, name='Predicted')))\n",
        "def get_metrics(Y_test, y_predicted):\n",
        "    accuracy = accuracy_score(Y_test, y_predicted)\n",
        "    precision = precision_score(Y_test, y_predicted, average='weighted')\n",
        "    recall = recall_score(Y_test, y_predicted, average='weighted')\n",
        "    f1 = f1_score(Y_test, y_predicted, average='weighted')\n",
        "    return accuracy, precision, recall, f1\n",
        "accuracy, precision, recall, f1 = get_metrics(Y_test, Y_pred)\n",
        "print(\"accuracy = %.3f \\nprecision = %.3f \\nrecall = %.3f \\nf1 = %.3f\" % (accuracy, precision, recall, f1))"
      ],
      "metadata": {
        "colab": {
          "base_uri": "https://localhost:8080/"
        },
        "id": "T2V5qFDtzZlh",
        "outputId": "94d9f6bd-2289-4236-ac86-ab5d5e9998db"
      },
      "execution_count": 44,
      "outputs": [
        {
          "output_type": "stream",
          "name": "stdout",
          "text": [
            "Confusion matrix\n",
            "\n",
            "Predicted     0     1     2    3    4     5    6\n",
            "Actual                                          \n",
            "0          1235     0     0    0    0     0    0\n",
            "1             0  1000     0    0    0     0    0\n",
            "2             0     0  1270    0    0     0    0\n",
            "3             0     0     0  975    0     0    0\n",
            "4             0     0     0    0  977     0    0\n",
            "5             0     0     0    0    0  1118    0\n",
            "6             0     0     0    0    0     0  965\n",
            "accuracy = 1.000 \n",
            "precision = 1.000 \n",
            "recall = 1.000 \n",
            "f1 = 1.000\n"
          ]
        }
      ]
    }
  ]
}