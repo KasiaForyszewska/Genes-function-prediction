{
 "cells": [
  {
   "cell_type": "markdown",
   "id": "0a61c9b1",
   "metadata": {},
   "source": [
    "<h1>Preprocessing data</h1>"
   ]
  },
  {
   "cell_type": "markdown",
   "id": "50916786",
   "metadata": {},
   "source": [
    "<h3>Remove duplicate sequences</h3>"
   ]
  },
  {
   "cell_type": "code",
   "execution_count": 65,
   "id": "9bf00fea",
   "metadata": {},
   "outputs": [
    {
     "name": "stdout",
     "output_type": "stream",
     "text": [
      "5459\n"
     ]
    }
   ],
   "source": [
    "f = open(\"sequence.txt\", \"r\")\n",
    "t = f.read()\n",
    "f.close()\n",
    "\n",
    "import re\n",
    "full_sequences = re.findall(\"(>.*?)\\n([ATGC\\n]*)\", t)\n",
    "\n",
    "sequences = [s.replace(\"\\n\",\"\") for n, s in full_sequences]\n",
    "sequences_names = [n for n, s in full_sequences]\n",
    "\n",
    "unique_sequences = []\n",
    "full_names = []\n",
    "\n",
    "for i in range(len(sequences)):\n",
    "    if sequences[i] not in unique_sequences:\n",
    "        unique_sequences.append(sequences[i])\n",
    "        full_names.append(sequences_names[i])\n",
    "print(len(unique_sequences))\n",
    "\n",
    "f2 = open(\"unique_sequences.txt\",\"w\")\n",
    "for i in range(len(unique_sequences)):\n",
    "    f2.write(full_names[i]+\"\\n\"+unique_sequences[i]+\"\\n\")\n",
    "f2.close()"
   ]
  },
  {
   "cell_type": "markdown",
   "id": "440d250d",
   "metadata": {},
   "source": [
    "<h3>Remove the same genes</h3>"
   ]
  },
  {
   "cell_type": "code",
   "execution_count": 16,
   "id": "87a2581d",
   "metadata": {},
   "outputs": [
    {
     "name": "stdout",
     "output_type": "stream",
     "text": [
      "1055\n"
     ]
    }
   ],
   "source": [
    "f3 = open(\"unique_sequences.txt\", \"r\")\n",
    "t2 = f3.read()\n",
    "f3.close()\n",
    "\n",
    "import re\n",
    "full_sequences2 = re.findall(\"(>.*?)\\n([ATGC\\n]*)\", t2)\n",
    "\n",
    "sequences2 = [s for n, s in full_sequences2]\n",
    "sequences_names2 = [n for n, s in full_sequences2]\n",
    "\n",
    "\n",
    "\n",
    "string_of_names = ' '.join([str(elem) for elem in sequences_names2])\n",
    "gene_names = re.findall(r'(?<=gene=)\\w+', string_of_names)\n",
    "unique_genes = []\n",
    "\n",
    "for name in gene_names:\n",
    "    if name not in unique_genes:\n",
    "        unique_genes.append(name)\n",
    "print(len(unique_genes))\n",
    "\n",
    "f4 = open(\"unique_genes.txt\",\"w\")\n",
    "for i in range(len(unique_genes)):\n",
    "    f4.write('>'+unique_genes[i]+\"\\n\"+sequences2[i]+\"\\n\")\n",
    "f4.close()"
   ]
  },
  {
   "cell_type": "code",
   "execution_count": 62,
   "id": "d0ab1c1d",
   "metadata": {},
   "outputs": [
    {
     "name": "stdout",
     "output_type": "stream",
     "text": [
      "['CHL1', 'CNTN6', 'CNTN4', 'IL5RA', 'TRNT1', 'CRBN', 'LRRN1', 'SUMF1', 'SETMAR', 'ITPR1', 'BHLHE40', 'ARL8B', 'EDEM1', 'GRM7', 'LMCD1', 'SSUH2', 'CAV3', 'OXTR', 'RAD18', 'SRGAP3', 'THUMPD3', 'SETD5', 'LHFPL4', 'MTMR14', 'CPNE9', 'BRPF1', 'OGG1', 'CAMK1', 'TADA3', 'ARPC4', 'TTLL3', 'RPUSD3', 'CIDEC', 'JAGN1', 'IL17RE', 'IL17RC', 'CRELD1', 'PRRT3', 'EMC3', 'FANCD2', 'FANCD2OS', 'BRK1', 'VHL', 'IRAK2', 'TATDN2', 'GHRL', 'SEC13', 'ATP2B2', 'SLC6A11', 'SLC6A1', 'HRH1', 'ATG7', 'VGLL4', 'TAMM41', 'SYN2', 'TIMP4', 'PPARG', 'TSEN2', 'MKRN2OS', 'MKRN2', 'RAF1', 'TMEM40', 'CAND2', 'RPL32', 'IQSEC1', 'NUP210', 'HDAC11', 'FBLN2', 'WNT7A', 'CHCHD4', 'TMEM43', 'XPC', 'LSM3', 'SLC6A6', 'GRIP2', 'CCDC174', 'C3orf20', 'FGD5', 'NR2C2', 'MRPS25', 'RBSN', 'CAPN7', 'SH3BP5', 'METTL6', 'EAF1', 'COLQ', 'HACL1', 'BTD', 'ANKRD28', 'GALNT15', 'DPH3', 'OXNAD1', 'RFTN1', 'DAZL', 'PLCL2', 'TBC1D5', 'SATB1', 'KCNH8', 'EFHB', 'RAB5A', 'PP2D1', 'KAT2B', 'SGO1', 'ZNF385D', 'UBE2E2', 'UBE2E1', 'NKIRAS1', 'RPL15', 'NR1D2', 'THRB', 'RARB', 'TOP2B', 'NGLY1', 'OXSM', 'LRRC3B', 'NEK10', 'SLC4A7', 'EOMES', 'CMC1', 'AZI2', 'ZCWPW2', 'LOC107986012', 'RBMS3', 'LOC105377015', 'TGFBR2', 'GADL1', 'STT3B', 'OSBPL10', 'ZNF860', 'GPD1L', 'CMTM8', 'CMTM7', 'CMTM6', 'DYNC1LI1', 'CNOT10', 'TRIM71', 'CCR4', 'GLB1', 'TMPPE', 'CRTAP', 'SUSD5', 'FBXL2', 'UBP1', 'CLASP2', 'PDCD6IP', 'ARPP21', 'STAC', 'DCLK3', 'TRANK1', 'EPM2AIP1', 'MLH1', 'LRRFIP2', 'LOC124909483', 'GOLGA4', 'ITGA9', 'CTDSPL', 'VILL', 'PLCD1', 'DLEC1', 'ACAA1', 'MYD88', 'OXSR1', 'SLC22A13', 'SLC22A14', 'XYLB', 'ACVR2B', 'EXOG', 'SCN5A', 'SCN10A', 'SCN11A', 'WDR48', 'GORASP1', 'TTC21A', 'CSRNP1', 'XIRP1', 'DSTNP4', 'CX3CR1', 'CCR8', 'SLC25A38', 'RPSA', 'MOBP', 'MYRIP', 'EIF1B', 'ENTPD3', 'RPL14', 'ZNF619', 'ZNF620', 'ZNF621', 'CTNNB1', 'ULK4', 'TRAK1', 'CCK', 'LYZL4', 'VIPR1', 'SEC22C', 'SS18L2', 'NKTR', 'ZBTB47', 'KLHL40', 'HHATL', 'CCDC13', 'HIGD1A', 'ACKR2', 'CYP8B1', 'ZNF662', 'KRBOX1', 'GASK1A', 'POMGNT2', 'SNRK', 'ANO10', 'ABHD5', 'TOPAZ1', 'TCAIM', 'ZNF445', 'ZNF852', 'ZKSCAN7', 'ZNF660', 'ZNF197', 'ZNF35', 'LOC124905403', 'ZNF502', 'ZNF501', 'KIAA1143', 'KIF15', 'TMEM42', 'TGM4', 'ZDHHC3', 'EXOSC7', 'CLEC3B', 'CDCP1', 'TMEM158', 'LARS2', 'LIMD1', 'SACM1L', 'SLC6A20', 'LZTFL1', 'CCR9', 'FYCO1', 'CXCR6', 'XCR1', 'CCR1', 'CCR3', 'CCR2', 'CCR5', 'CCRL2', 'LTF', 'RTP3', 'LRRC2', 'TDGF1', 'FAM240A', 'ALS2CL', 'TMIE', 'PRSS50', 'MYL3', 'PTH1R', 'CCDC12', 'NBEAL2', 'SETD2', 'KIF9', 'KLHL18', 'PTPN23', 'SCAP', 'ELP6', 'CSPG5', 'SMARCC1', 'HIGD2AP2', 'DHX30', 'MAP4', 'CDC25A', 'CAMP', 'ZNF589', 'NME6', 'SPINK8', 'FBXW12', 'PLXNB1', 'CCDC51', 'TMA7', 'ATRIP', 'TREX1', 'SHISA5', 'PFKFB4', 'UCN2', 'COL7A1', 'UQCRC1', 'TMEM89', 'SLC26A6', 'CELSR3', 'NCKIPSD', 'IP6K2', 'PRKAR2A', 'SLC25A20', 'ARIH2', 'P4HTM', 'WDR6', 'DALRD3', 'NDUFAF3', 'IMPDH2', 'QRICH1', 'QARS1', 'USP19', 'LAMB2', 'CCDC71', 'KLHDC8B', 'C3orf84', 'IHO1', 'C3orf62', 'USP4', 'LOC124906236', 'GPX1', 'RHOA', 'TCTA', 'AMT', 'NICN1', 'DAG1', 'BSN', 'APEH', 'MST1', 'RNF123', 'AMIGO3', 'GMPPB', 'IP6K1', 'CDHR4', 'INKA1', 'UBA7', 'TRAIP', 'CAMKV', 'MST1R', 'MON1A', 'RBM6', 'RBM5', 'LOC124909484', 'SEMA3F', 'GNAT1', 'SLC38A3', 'GNAI2', 'SEMA3B', 'LSMEM2', 'IFRD2', 'HYAL3', 'NAA80', 'HYAL1', 'HYAL2', 'TUSC2', 'RASSF1', 'ZMYND10', 'NPRL2', 'CYB561D2', 'TMEM115', 'CACNA2D2', 'C3orf18', 'HEMK1', 'CISH', 'MAPKAPK3', 'DOCK3', 'MANF', 'RBM15B', 'DCAF1', 'RAD54L2', 'TEX264', 'GRM2', 'IQCF6', 'IQCF3', 'IQCF2', 'IQCF5', 'IQCF1', 'RRP9', 'PARP3', 'GPR62', 'PCBP4', 'ABHD14B', 'ABHD14A', 'ACY1', 'RPL29', 'DUSP7', 'POC1A', 'ALAS1', 'TLR9', 'TWF2', 'PPM1M', 'WDR82', 'GLYCTK', 'DNAH1', 'BAP1', 'PHF7', 'SEMA3G', 'TNNC1', 'NISCH', 'STAB1', 'NT5DC2', 'SMIM4', 'PBRM1', 'GNL3', 'GLT8D1', 'SPCS1', 'NEK4', 'ITIH1', 'ITIH3', 'ITIH4', 'STIMATE', 'MUSTN1', 'SFMBT1', 'RFT1', 'PRKCD', 'TKT', 'DCP1A', 'CACNA1D', 'CHDH', 'IL17RB', 'ACTR8', 'SELENOK', 'CACNA2D3', 'LRTM1', 'WNT5A', 'ERC2', 'CCDC66', 'TASOR', 'ARHGEF3', 'SPATA12', 'IL17RD', 'HESX1', 'APPL1', 'ASB14', 'DNAH12', 'PDE12', 'ARF4', 'DENND6A', 'SLMAP', 'FLNB', 'LOC124909485', 'DNASE1L3', 'ABHD6', 'RPP14', 'HTD2', 'PXK', 'PDHB', 'KCTD6', 'ACOX2', 'FAM107A', 'FAM3D', 'CFAP20DC', 'FHIT', 'PTPRG', 'C3orf14', 'FEZF2', 'CADPS', 'SYNPR', 'SNTN', 'C3orf49', 'THOC7', 'ATXN7', 'PSMD6', 'PRICKLE2', 'ADAMTS9', 'MAGI1', 'SLC25A26', 'LRIG1', 'KBTBD8', 'SUCLG2', 'TAFA1', 'TAFA4', 'EOGT', 'TMF1', 'UBA3', 'ARL6IP5', 'LMOD3', 'FRMD4B', 'MITF', 'MDFIC2', 'FOXP1', 'EIF4E3', 'GPR27', 'PROK2', 'RYBP', 'SHQ1', 'GXYLT2', 'PPP4R2', 'EBLN2', 'PDZRN3', 'CNTN3', 'FRG2C', 'ZNF717', 'ROBO2', 'ROBO1', 'GBE1', 'CADM2', 'VGLL3', 'CHMP2B', 'POU1F1', 'HTR1F', 'CGGBP1', 'ZNF654', 'C3orf38', 'CSNKA2IP', 'EPHA3', 'PROS1', 'ARL13B', 'STX19', 'DHFR2', 'NSUN3', 'EPHA6', 'ARL6', 'CRYBG3', 'RIOX2', 'GABRR3', 'OR5AC2', 'OR5H1', 'OR5H14', 'OR5H15', 'OR5H6', 'OR5H2', 'OR5K4', 'OR5K3', 'OR5K1', 'OR5K2', 'CLDND1', 'GPR15', 'CPOX', 'ST3GAL6', 'DCBLD2', 'COL8A1', 'CMSS1', 'FILIP1L', 'TBC1D23', 'NIT2', 'TOMM70', 'LNP1', 'TMEM45A', 'ADGRG7', 'TFG', 'ABI3BP', 'IMPG2', 'SENP7', 'TRMT10C', 'PCNP', 'ZBTB11', 'RPL24', 'LOC124906262', 'CEP97', 'NXPE3', 'NFKBIZ', 'ZPLD1', 'ALCAM', 'CBLB', 'CCDC54', 'BBX', 'CD47', 'IFT57', 'HHLA2', 'MYH15', 'CIP2A', 'DZIP3', 'RETNLB', 'TRAT1', 'GUCA1C', 'MORC1', 'C3orf85', 'DPPA2', 'DPPA4', 'NECTIN3', 'CD96', 'ZBED2', 'PLCXD2', 'PHLDB2', 'ABHD10', 'TAGLN3', 'TMPRSS7', 'C3orf52', 'GCSAM', 'SLC9C1', 'CD200', 'BTLA', 'ATG3', 'SLC35A5', 'CCDC80', 'CD200R1L', 'CD200R1', 'GTPBP8', 'NEPRO', 'LOC124909486', 'BOC', 'CFAP44', 'SPICE1', 'SIDT1', 'USF3', 'NAA50', 'ATP6V1A', 'GRAMD1C', 'ZDHHC23', 'CCDC191', 'QTRT2', 'DRD3', 'ZNF80', 'TIGIT', 'ZBTB20', 'GAP43', 'LSAMP', 'IGSF11', 'TEX55', 'UPK1B', 'B4GALT4', 'ARHGAP31', 'TMEM39A', 'POGLUT1', 'TIMMDC1', 'CD80', 'ADPRH', 'PLA1A', 'POPDC2', 'COX17', 'CFAP91', 'NR1I2', 'GSK3B', 'GPR156', 'LRRC58', 'FSTL1', 'NDUFB4', 'HGD', 'RABL3', 'GTF2E1', 'STXBP5L', 'POLQ', 'ARGFX', 'FBXO40', 'HCLS1', 'GOLGB1', 'IQCB1', 'EAF2', 'SLC15A2', 'ILDR1', 'CD86', 'CASR', 'CSTA', 'MIX23', 'FAM162A', 'WDR5B', 'KPNA1', 'PARP9', 'DTX3L', 'PARP15', 'PARP14', 'HSPBAP1', 'SLC49A4', 'SEMA5B', 'PDIA5', 'SEC22A', 'ADCY5', 'HACD2', 'MYLK', 'CCDC14', 'ROPN1', 'KALRN', 'UMPS', 'ITGB5', 'MUC13', 'HEG1', 'SLC12A8', 'ZNF148', 'SNX4', 'OSBPL11', 'LOC112267908', 'ROPN1B', 'SLC41A3', 'ALDH1L1', 'KLF15', 'CFAP100', 'LOC124906280', 'ZXDC', 'UROC1', 'CHST13', 'C3orf22', 'TXNRD3', 'CHCHD6', 'PLXNA1', 'C3orf56', 'PRR20G', 'TPRA1', 'MCM2', 'PODXL2', 'ABTB1', 'MGLL', 'KBTBD12', 'SEC61A1', 'RUVBL1', 'EEFSEC', 'DNAJB8', 'GATA2', 'RPN1', 'RAB7A', 'ACAD9', 'CFAP92', 'EFCC1', 'GP9', 'RAB43', 'ISY1', 'CNBP', 'COPG1', 'HMCES', 'H1', 'EFCAB12', 'MBD4', 'IFT122', 'RHO', 'PLXND1', 'TMCC1', 'TRH', 'ALG1L2', 'COL6A5', 'COL6A6', 'PIK3R4', 'ATP2C1', 'ASTE1', 'NEK11', 'NUDT16', 'MRPL3', 'CPNE4', 'ACP3', 'DNAJC13', 'ACAD11', 'ACKR4', 'UBA5', 'NPHP3', 'TMEM108', 'BFSP2', 'CDV3', 'TOPBP1', 'LOC124909487', 'TF', 'SRPRB', 'RAB6B', 'SLCO2A1', 'RYK', 'AMOTL2', 'ANAPC13', 'CEP63', 'KY', 'EPHB1', 'PPP2R3A', 'MSL2', 'PCCB', 'STAG1', 'SLC35G2', 'NCK1', 'IL20RB', 'SOX14', 'CLDN18', 'DZIP1L', 'A4GNT', 'DBR1', 'ARMC8', 'NME9', 'MRAS', 'ESYT3', 'CEP70', 'FAIM', 'PIK3CB', 'FOXL2', 'FOXL2NB', 'PRR23A', 'PRR23B', 'PRR23C', 'LOC124909439', 'MRPS22', 'COPB2', 'RBP2', 'RBP1', 'NMNAT3', 'CLSTN2', 'TRIM42', 'SLC25A36', 'SPSB4', 'PXYLP1', 'ZBTB38', 'RASA2', 'RNF7', 'GRK7', 'ATP1B3', 'TFDP2', 'GK5', 'XRN1', 'ATR', 'PLS1', 'TRPC1', 'PCOLCE2', 'PAQR9', 'U2SURP', 'CHST2', 'SLC9A9', 'DIPK2A', 'PLOD2', 'PLSCR4', 'PLSCR2', 'PLSCR1', 'PLSCR5', 'LOC124909494', 'ZIC4', 'ZIC1', 'AGTR1', 'CPB1', 'CPA3', 'GYG1', 'HLTF', 'HPS3', 'CP', 'TM4SF18', 'TM4SF1', 'TM4SF4', 'WWTR1', 'COMMD2', 'ANKUB1', 'RNF13', 'PFN2', 'TSC22D2', 'SERP1', 'EIF2A', 'SELENOT', 'ERICH6', 'SIAH2', 'MINDY4B', 'CLRN1', 'MED12L', 'GPR171', 'P2RY14', 'GPR87', 'P2RY13', 'P2RY12', 'IGSF10', 'AADACL2', 'AADAC', 'SUCNR1', 'MBNL1', 'P2RY1', 'RAP2B', 'ARHGEF26', 'DHX36', 'GPR149', 'MME', 'STRIT1', 'PLCH1', 'C3orf33', 'SLC33A1', 'GMPS', 'KCNAB1', 'SSR3', 'TIPARP', 'LEKR1', 'CCNL1', 'VEPH1', 'PTX3', 'SHOX2', 'RSRC1', 'MLF1', 'GFM1', 'LXN', 'RARRES1', 'MFSD1', 'IQCJ', 'SCHIP1', 'IL12A', 'LOC124906252', 'C3orf80', 'IFT80', 'SMC4', 'TRIM59', 'KPNA4', 'ARL14', 'PPM1L', 'B3GALNT1', 'NMD3', 'SPTSSB', 'OTOL1', 'SI', 'SLITRK3', 'BCHE', 'ZBBX', 'SERPINI2', 'WDR49', 'PDCD10', 'SERPINI1', 'GOLIM4', 'MECOM', 'ACTRT3', 'MYNN', 'LRRC34', 'LRRIQ4', 'LRRC31', 'SAMD7', 'SEC62', 'GPR160', 'PHC3', 'PRKCI', 'SKIL', 'CLDN11', 'SLC7A14', 'RPL22L1', 'EIF5A2', 'SLC2A2', 'TNIK', 'PLD1', 'TMEM212', 'FNDC3B', 'GHSR', 'TNFSF10', 'NCEH1', 'ECT2', 'SPATA16', 'NLGN1', 'NAALADL2', 'TBL1XR1', 'LOC124909461', 'KCNMB2', 'ZMAT3', 'PIK3CA', 'KCNMB3', 'ZNF639', 'MFN1', 'GNB4', 'ACTL6A', 'MRPL47', 'NDUFB5', 'USP13', 'PEX5L', 'TTC14', 'CCDC39', 'FXR1', 'DNAJC19', 'SOX2', 'ATP11B', 'DCUN1D1', 'MCCC1', 'LAMP3', 'MCF2L2', 'B3GNT5', 'KLHL6', 'KLHL24', 'YEATS2', 'MAP6D1', 'PARL', 'ABCC5', 'HTR3D', 'HTR3C', 'HTR3E', 'EIF2B5', 'DVL3', 'AP2M1', 'ABCF3', 'VWA5B2', 'ALG3', 'EEF1AKMT4', 'CAMK2N2', 'ECE2', 'PSMD2', 'EIF4G1', 'FAM131A', 'CLCN2', 'POLR2H', 'THPO', 'CHRD', 'EPHB3', 'MAGEF1', 'VPS8', 'C3orf70', 'EHHADH', 'MAP3K13', 'TMEM41A', 'LIPH', 'SENP2', 'IGF2BP2', 'TRA2B', 'ETV5', 'DGKG', 'CRYGS', 'TBCCD1', 'DNAJB11', 'AHSG', 'FETUB', 'HRG', 'KNG1', 'EIF4A2', 'RFC4', 'ADIPOQ', 'ST6GAL1', 'RPL39L', 'RTP1', 'MASP1', 'RTP4', 'SST', 'RTP2', 'BCL6', 'LPP', 'TPRG1', 'TP63', 'P3H2', 'CLDN1', 'CLDN16', 'TMEM207', 'IL1RAP', 'GMNC', 'OSTN', 'UTS2B', 'CCDC50', 'PYDC2', 'FGF12', 'MB21D2', 'PLAAT1', 'ATP13A5', 'ATP13A4', 'OPA1', 'LOC102724877', 'HES1', 'CPN2', 'LRRC15', 'GP5', 'ATP13A3', 'TMEM44', 'LSG1', 'LOC124909474', 'FAM43A', 'XXYLT1', 'ACAP2', 'PPP1R2', 'APOD', 'MUC20', 'MUC4', 'LOC124905352', 'TNK2', 'TFRC', 'ZDHHC19', 'SLC51A', 'PCYT1A', 'DYNLT2B', 'TM4SF19', 'UBXN7', 'RNF168', 'SMCO1', 'WDR53', 'FBXO45', 'NRROS', 'CEP19', 'PIGX', 'PAK2', 'SENP5', 'NCBP2', 'NCBP2AS2', 'PIGZ', 'LOC124906255', 'MELTF', 'DLG1', 'BDH1', 'LOC112268458', 'RUBCN', 'FYTTD1', 'LRCH3', 'IQCG', 'RPL35A', 'LMLN']\n"
     ]
    }
   ],
   "source": [
    "print(unique_genes)"
   ]
  },
  {
   "cell_type": "markdown",
   "id": "3d52ba60",
   "metadata": {},
   "source": [
    "<h3>Translate DNA to protein</h3>"
   ]
  },
  {
   "cell_type": "code",
   "execution_count": 69,
   "id": "d9237933",
   "metadata": {},
   "outputs": [],
   "source": [
    "f5 = open('unique_genes.txt', \"r\")\n",
    "t3 = f5.read()\n",
    "f5.close()\n",
    "\n",
    "import re\n",
    "full_sequences3 = re.findall(\"(>\\w+)\\n([ATGC\\n]*)\", t3)\n",
    "\n",
    "mod_sequences =  [s.replace(\"\\n\",\"\") for n, s in full_sequences3]\n",
    "sequences_names3 = [n for n, s in full_sequences3]\n",
    "\n",
    "code = {\n",
    "    'ATA':'I', 'ATC':'I', 'ATT':'I', 'ATG':'M',\n",
    "    'ACA':'T', 'ACC':'T', 'ACG':'T', 'ACT':'T',\n",
    "    'AAC':'N', 'AAT':'N', 'AAA':'K', 'AAG':'K',\n",
    "    'AGC':'S', 'AGT':'S', 'AGA':'R', 'AGG':'R',\n",
    "    'CTA':'L', 'CTC':'L', 'CTG':'L', 'CTT':'L',\n",
    "    'CCA':'P', 'CCC':'P', 'CCG':'P', 'CCT':'P',\n",
    "    'CAC':'H', 'CAT':'H', 'CAA':'Q', 'CAG':'Q',\n",
    "    'CGA':'R', 'CGC':'R', 'CGG':'R', 'CGT':'R',\n",
    "    'GTA':'V', 'GTC':'V', 'GTG':'V', 'GTT':'V',\n",
    "    'GCA':'A', 'GCC':'A', 'GCG':'A', 'GCT':'A',\n",
    "    'GAC':'D', 'GAT':'D', 'GAA':'E', 'GAG':'E',\n",
    "    'GGA':'G', 'GGC':'G', 'GGG':'G', 'GGT':'G',\n",
    "    'TCA':'S', 'TCC':'S', 'TCG':'S', 'TCT':'S',\n",
    "    'TTC':'F', 'TTT':'F', 'TTA':'L', 'TTG':'L',\n",
    "    'TAC':'Y', 'TAT':'Y', 'TAA':'',  'TAG':'',\n",
    "    'TGC':'C', 'TGT':'C', 'TGA':'',  'TGG':'W'\n",
    "    }\n",
    "\n",
    "protein_sequences = []\n",
    "for sequence in mod_sequences:\n",
    "    protein  = ''\n",
    "    if len(sequence) % 3 == 0:\n",
    "        for i in range (0, len(sequence), 3):\n",
    "            codon = sequence[i:i+3]\n",
    "            protein += code[codon]\n",
    "        protein_sequences.append(protein) \n",
    "\n",
    "f6 = open(\"protein_sequences.txt\",\"w\")\n",
    "for i in range(len(mod_sequences)):\n",
    "    f6.write(sequences_names3[i]+\"\\n\"+protein_sequences[i]+\"\\n\")\n",
    "f6.close()"
   ]
  },
  {
   "cell_type": "markdown",
   "id": "d98ebf2c",
   "metadata": {},
   "source": [
    "<h3>One hot encoding for DNA</h3>"
   ]
  },
  {
   "cell_type": "code",
   "execution_count": 106,
   "id": "41bbfe3b",
   "metadata": {},
   "outputs": [],
   "source": [
    "f7 = open('test.txt', \"r\")\n",
    "data = f7.read()\n",
    "f7.close()\n",
    "\n",
    "import re\n",
    "elements = re.findall(\"([ATGC]+)\\s+(\\d+)\", data)\n",
    "\n",
    "DNA_sequences = [s for s, n in elements]\n",
    "classes = [n for s, n in elements]"
   ]
  },
  {
   "cell_type": "code",
   "execution_count": 107,
   "id": "5085b2c8",
   "metadata": {},
   "outputs": [],
   "source": [
    "import numpy as np\n",
    "\n",
    "def DNA_encoded(sequence):\n",
    "    code = {\"A\": 0, \"C\": 1, \"G\": 2, \"T\": 3}\n",
    "    fit = [code[x] for x in sequence]\n",
    "    return np.eye(4)[fit]"
   ]
  },
  {
   "cell_type": "code",
   "execution_count": 108,
   "id": "d8b17af2",
   "metadata": {},
   "outputs": [],
   "source": [
    "OHE_DNA = [DNA_encoded(sequence) for sequence in DNA_sequences]"
   ]
  },
  {
   "cell_type": "markdown",
   "id": "31d66090",
   "metadata": {},
   "source": [
    "<h3>One hot encoding for protein</h3>"
   ]
  },
  {
   "cell_type": "code",
   "execution_count": 3,
   "id": "e8721e4e",
   "metadata": {},
   "outputs": [],
   "source": [
    "f8 = open('test.txt', \"r\")\n",
    "data2 = f8.read()\n",
    "f8.close()\n",
    "\n",
    "import re\n",
    "elements2 = re.findall(\"([A-Z]+)\\s+(\\d+)\", data2)\n",
    "\n",
    "protein_sequences = [s for s, n in elements2]\n",
    "classes2 = [n for s, n in elements2]"
   ]
  },
  {
   "cell_type": "code",
   "execution_count": 95,
   "id": "9e97ca34",
   "metadata": {},
   "outputs": [],
   "source": [
    "def Protein_encoded(sequence):\n",
    "    code = {\"I\": [6.04, 131.18, 2.32, 9.76], \"T\": [5.60,  119.12, 2.09, 9.10], \"N\": [5.43, 132.12, 2.14, 8.72], \n",
    "            \"S\": [5.70, 105.09, 2.19, 9.21], \"L\": [6.04, 131.18, 2.33, 9.74], \"P\": [6.30, 115.13, 1.95, 10.64], \n",
    "            \"H\": [7.64, 155.16, 1.80, 9.33], \"R\": [10.76, 174.20, 1.82, 8.99], \"V\": [6.02, 117.15, 2.29, 9.74], \n",
    "            \"A\": [6.11, 89.10, 2.35, 9.87], \"D\": [2.98, 133.11, 1.99, 9.90], \"G\": [6.06, 75.07, 2.35, 9.78], \n",
    "            \"S\": [5.70, 105.09, 2.19, 9.21], \"F\": [5.76, 165.19, 2.20, 9.31], \"C\": [5.15, 121.16, 1.92, 10.70], \n",
    "            \"Y\": [5.63, 181.19, 2.20, 9.21], \"K\": [9.47, 146.19, 2.16, 9.06], \"Q\": [5.65, 146.15, 2.17, 9.13], \n",
    "            \"E\": [3.08, 147.13, 2.10, 9.47], \"M\": [5.71, 149.21, 2.13, 9.28], \"W\": [5.88, 204.23, 2.46, 9.41]} \n",
    "    #https://www.vanderbilt.edu/AnS/Chemistry/Rizzo/stuff/AA/AminoAcids.html\n",
    "    fit = [code[x] for x in sequence_p]\n",
    "    return np.array(fit)"
   ]
  },
  {
   "cell_type": "code",
   "execution_count": 111,
   "id": "a20c7f5e",
   "metadata": {},
   "outputs": [],
   "source": [
    "OHE_Protein = [Protein_encoded(sequence) for sequence in protein_sequences]"
   ]
  },
  {
   "cell_type": "code",
   "execution_count": 32,
   "id": "d876ccb6",
   "metadata": {},
   "outputs": [],
   "source": [
    "f8 = open('new_genes2.txt', \"r\")\n",
    "test = f8.read()\n",
    "f8.close()\n",
    "\n",
    "import re\n",
    "elements3 = re.findall(\"([ATGC]+)\\s+(\\d+)\", test)\n",
    "\n",
    "test_sequences = [s for s, n in elements3]\n",
    "test_classes = [n for s, n in elements3]\n",
    "\n",
    "new_classes = list(map(lambda x: x.replace('13', '10'), test_classes))\n",
    "\n",
    "f9 = open(\"new_genes3.txt\",\"w\")\n",
    "for i in range(len(test_sequences)):\n",
    "    f9.write(test_sequences[i]+\"\\n\"+new_classes[i]+\"\\n\")\n",
    "f9.close()"
   ]
  },
  {
   "cell_type": "code",
   "execution_count": 36,
   "id": "5ec45a0b",
   "metadata": {},
   "outputs": [
    {
     "name": "stdout",
     "output_type": "stream",
     "text": [
      "[0, 0, 0, 0, 1, 1, 1, 1, 1, 1, 1, 1, 1, 1, 1, 1, 1, 1, 1, 1, 1, 1, 1, 1, 1, 1, 1, 1, 1, 1, 1, 1, 1, 1, 1, 2, 2, 2, 2, 2, 2, 2, 2, 2, 2, 2, 2, 2, 2, 2, 2, 2, 2, 2, 2, 2, 2, 2, 2, 2, 2, 2, 2, 2, 2, 2, 2, 2, 2, 2, 2, 2, 2, 2, 2, 2, 2, 2, 2, 2, 2, 2, 2, 2, 2, 2, 2, 2, 2, 2, 2, 2, 2, 2, 2, 2, 2, 2, 2, 2, 2, 2, 2, 2, 2, 2, 2, 2, 2, 2, 2, 2, 2, 2, 2, 2, 2, 2, 2, 2, 2, 2, 2, 2, 2, 2, 2, 2, 2, 2, 2, 3, 3, 3, 3, 3, 3, 3, 3, 3, 3, 3, 3, 3, 3, 3, 3, 3, 3, 3, 3, 3, 3, 3, 3, 3, 3, 3, 3, 3, 3, 3, 3, 3, 3, 3, 3, 3, 3, 3, 3, 3, 3, 3, 3, 3, 3, 3, 3, 3, 3, 3, 3, 3, 3, 3, 3, 3, 3, 3, 3, 3, 3, 3, 3, 3, 3, 3, 3, 4, 4, 4, 4, 4, 4, 4, 4, 4, 4, 4, 4, 4, 4, 4, 4, 4, 4, 4, 4, 4, 4, 4, 4, 4, 4, 4, 4, 4, 4, 4, 4, 4, 4, 4, 5, 5, 5, 5, 5, 5, 5, 5, 5, 5, 5, 5, 5, 5, 5, 5, 5, 5, 5, 5, 5, 7, 7, 7, 7, 7, 7, 7, 7, 7, 7, 7, 7, 7, 7, 7, 7, 7, 7, 7, 7, 7, 7, 8, 8, 8, 8, 8, 8, 8, 8, 8, 8, 8, 8, 8, 8, 10, 10, 10, 10, 10, 10, 10, 10, 10, 10, 10, 10, 10, 10, 10, 10, 10, 10, 10, 10, 10, 10, 10, 10, 10, 10, 10, 10, 11, 11, 11, 11, 11, 11, 11, 12, 12, 12, 12, 12, 12, 14, 14, 14, 14, 14, 14, 14, 14, 15, 15, 15, 15]\n"
     ]
    }
   ],
   "source": [
    "f10 = open('new_genes3.txt', \"r\")\n",
    "test2 = f10.read()\n",
    "f10.close()\n",
    "\n",
    "import re\n",
    "elements4 = re.findall(\"([ATGC]+)\\s+(\\d+)\", test2)\n",
    "\n",
    "test_sequences2 = [s for s, n in elements4]\n",
    "test_classes2 = [n for s, n in elements4]\n",
    "\n",
    "test_classes3 = [int(n) for n in test_classes2]\n",
    "print(sorted(test_classes3))"
   ]
  },
  {
   "cell_type": "code",
   "execution_count": 26,
   "id": "5611296a",
   "metadata": {},
   "outputs": [
    {
     "data": {
      "text/plain": [
       "344"
      ]
     },
     "execution_count": 26,
     "metadata": {},
     "output_type": "execute_result"
    }
   ],
   "source": [
    "len(test_classes3)"
   ]
  },
  {
   "cell_type": "code",
   "execution_count": 37,
   "id": "4d60e24c",
   "metadata": {},
   "outputs": [
    {
     "name": "stdout",
     "output_type": "stream",
     "text": [
      "22\n"
     ]
    }
   ],
   "source": [
    "print(test_classes3.count(7)) \n",
    "#0: 4, Cell adhesion                                                 - przenieść\n",
    "#1: 31, Receptors                                                    - ok\n",
    "#2: 96, Enzymes and their subunits                                   - ok\n",
    "#3: 68, Protein binding                                              - zmniejszyć\n",
    "#4: 35, DNA binding and transcription regulation involved proteins   - ok\n",
    "#5: 21, Membrane proteins                                            - ok                                         \n",
    "#7: 22, Transport involved proteins                                  - ok\n",
    "#8: 14, Unknown function or no data                                  - ok\n",
    "#10: 28, Signal pathways involved and signal proteins                - ok                              \n",
    "#11: 7, Structural proteins                                          - ???\n",
    "#12: 6, Ribosomal and translation involved proteins                  - ???\n",
    "#14: 8, RNA binding proteins                                         - ???\n",
    "#15: 8, Metal ions binding proteins                                  - ???"
   ]
  },
  {
   "cell_type": "code",
   "execution_count": 38,
   "id": "477942da",
   "metadata": {},
   "outputs": [
    {
     "ename": "TypeError",
     "evalue": "can only concatenate str (not \"tuple\") to str",
     "output_type": "error",
     "traceback": [
      "\u001b[1;31m---------------------------------------------------------------------------\u001b[0m",
      "\u001b[1;31mTypeError\u001b[0m                                 Traceback (most recent call last)",
      "\u001b[1;32m<ipython-input-38-a9c04a44d1a5>\u001b[0m in \u001b[0;36m<module>\u001b[1;34m\u001b[0m\n\u001b[0;32m     21\u001b[0m \u001b[0mf12\u001b[0m \u001b[1;33m=\u001b[0m \u001b[0mopen\u001b[0m\u001b[1;33m(\u001b[0m\u001b[1;34m\"back_genes.txt\"\u001b[0m\u001b[1;33m,\u001b[0m\u001b[1;34m\"w\"\u001b[0m\u001b[1;33m)\u001b[0m\u001b[1;33m\u001b[0m\u001b[1;33m\u001b[0m\u001b[0m\n\u001b[0;32m     22\u001b[0m \u001b[1;32mfor\u001b[0m \u001b[0mi\u001b[0m \u001b[1;32min\u001b[0m \u001b[0mrange\u001b[0m\u001b[1;33m(\u001b[0m\u001b[0mlen\u001b[0m\u001b[1;33m(\u001b[0m\u001b[0mseq\u001b[0m\u001b[1;33m)\u001b[0m\u001b[1;33m)\u001b[0m\u001b[1;33m:\u001b[0m\u001b[1;33m\u001b[0m\u001b[1;33m\u001b[0m\u001b[0m\n\u001b[1;32m---> 23\u001b[1;33m     \u001b[0mf12\u001b[0m\u001b[1;33m.\u001b[0m\u001b[0mwrite\u001b[0m\u001b[1;33m(\u001b[0m\u001b[1;34m'>'\u001b[0m\u001b[1;33m+\u001b[0m\u001b[0mgenes_names\u001b[0m\u001b[1;33m[\u001b[0m\u001b[0mi\u001b[0m\u001b[1;33m]\u001b[0m\u001b[1;33m+\u001b[0m\u001b[1;34m\"\\n\"\u001b[0m\u001b[1;33m+\u001b[0m\u001b[0mfull2\u001b[0m\u001b[1;33m[\u001b[0m\u001b[0mi\u001b[0m\u001b[1;33m]\u001b[0m\u001b[1;33m+\u001b[0m\u001b[1;34m\"\\n\"\u001b[0m\u001b[1;33m)\u001b[0m\u001b[1;33m\u001b[0m\u001b[1;33m\u001b[0m\u001b[0m\n\u001b[0m\u001b[0;32m     24\u001b[0m \u001b[0mf12\u001b[0m\u001b[1;33m.\u001b[0m\u001b[0mclose\u001b[0m\u001b[1;33m(\u001b[0m\u001b[1;33m)\u001b[0m\u001b[1;33m\u001b[0m\u001b[1;33m\u001b[0m\u001b[0m\n",
      "\u001b[1;31mTypeError\u001b[0m: can only concatenate str (not \"tuple\") to str"
     ]
    }
   ],
   "source": [
    "f11 = open('unique_genes.txt', \"r\")\n",
    "file = f11.read()\n",
    "f11.close()\n",
    "\n",
    "full = re.findall(\"(>.*?)\\n([ATGC\\n]*)\", file)\n",
    "\n",
    "seq = [s for n, s in full]\n",
    "genes_names = [n for n, s in full]\n",
    "\n",
    "\n",
    "f12 = open('genes.txt', \"r\")\n",
    "file2 = f12.read()\n",
    "f12.close()\n",
    "\n",
    "full2 = re.findall(\"([ATGC]+)\\s+(\\d+)\", file2)\n",
    "\n",
    "seq2 = [s for n, s in full2]\n",
    "genes_classes = [n for n, s in full2]\n",
    "\n",
    "        \n",
    "f12 = open(\"back_genes.txt\",\"w\")\n",
    "for i in range(len(seq)):\n",
    "    f12.write('>'+genes_names[i]+\"\\n\"+full2[i]+\"\\n\")\n",
    "f12.close()"
   ]
  },
  {
   "cell_type": "code",
   "execution_count": null,
   "id": "75bd7da5",
   "metadata": {},
   "outputs": [],
   "source": []
  }
 ],
 "metadata": {
  "kernelspec": {
   "display_name": "Python 3",
   "language": "python",
   "name": "python3"
  },
  "language_info": {
   "codemirror_mode": {
    "name": "ipython",
    "version": 3
   },
   "file_extension": ".py",
   "mimetype": "text/x-python",
   "name": "python",
   "nbconvert_exporter": "python",
   "pygments_lexer": "ipython3",
   "version": "3.8.8"
  }
 },
 "nbformat": 4,
 "nbformat_minor": 5
}
